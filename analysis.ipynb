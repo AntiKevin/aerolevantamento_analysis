{
 "cells": [
  {
   "cell_type": "markdown",
   "id": "a668114d-8199-4085-944c-2373213f1ab9",
   "metadata": {
    "tags": []
   },
   "source": [
    "# carregando a base de dados"
   ]
  },
  {
   "cell_type": "code",
   "execution_count": 1,
   "id": "a72be4c5-da53-46e0-aa4f-e292b597b394",
   "metadata": {},
   "outputs": [],
   "source": [
    "import pandas as pd\n",
    "import seaborn as sns\n",
    "import numpy as np\n",
    "import matplotlib.pyplot as plt"
   ]
  },
  {
   "cell_type": "code",
   "execution_count": 2,
   "id": "27bb28d8-b2f5-4ac7-b76b-7b2b43f4c1d4",
   "metadata": {},
   "outputs": [],
   "source": [
    "dataset = pd.read_csv('claten_metadados_2016_a_2021.csv', encoding='latin1', delimiter=';')"
   ]
  },
  {
   "cell_type": "code",
   "execution_count": 3,
   "id": "135c982e-b143-45ca-b5a6-97048616d65f",
   "metadata": {
    "tags": []
   },
   "outputs": [
    {
     "data": {
      "text/html": [
       "<div>\n",
       "<style scoped>\n",
       "    .dataframe tbody tr th:only-of-type {\n",
       "        vertical-align: middle;\n",
       "    }\n",
       "\n",
       "    .dataframe tbody tr th {\n",
       "        vertical-align: top;\n",
       "    }\n",
       "\n",
       "    .dataframe thead th {\n",
       "        text-align: right;\n",
       "    }\n",
       "</style>\n",
       "<table border=\"1\" class=\"dataframe\">\n",
       "  <thead>\n",
       "    <tr style=\"text-align: right;\">\n",
       "      <th></th>\n",
       "      <th>ESTADO</th>\n",
       "      <th>MUNICÍPIO (S)</th>\n",
       "      <th>ESCALA</th>\n",
       "      <th>FINALIDADE</th>\n",
       "      <th>NºAUT/ANO</th>\n",
       "      <th>EMPRESA</th>\n",
       "      <th>PROJETO</th>\n",
       "    </tr>\n",
       "  </thead>\n",
       "  <tbody>\n",
       "    <tr>\n",
       "      <th>0</th>\n",
       "      <td>SP</td>\n",
       "      <td>Ribeirão Preto</td>\n",
       "      <td>1:5.000</td>\n",
       "      <td>Aerofotogrametria e Perfilamento Laser</td>\n",
       "      <td>028/2016</td>\n",
       "      <td>AEROCARTA</td>\n",
       "      <td>248/16</td>\n",
       "    </tr>\n",
       "    <tr>\n",
       "      <th>1</th>\n",
       "      <td>SP</td>\n",
       "      <td>Mogi Mirim</td>\n",
       "      <td>GSD 10 e 25 cm</td>\n",
       "      <td>Aerofotogrametria e Perfilamento a Laser</td>\n",
       "      <td>097/2016</td>\n",
       "      <td>AEROCARTA</td>\n",
       "      <td>250/16</td>\n",
       "    </tr>\n",
       "    <tr>\n",
       "      <th>2</th>\n",
       "      <td>SP</td>\n",
       "      <td>Araraquara</td>\n",
       "      <td>GSD 10 cm</td>\n",
       "      <td>Aerofotogrametria e Perfilamento a Laser</td>\n",
       "      <td>165/2016</td>\n",
       "      <td>AEROCARTA</td>\n",
       "      <td>253/2016</td>\n",
       "    </tr>\n",
       "    <tr>\n",
       "      <th>3</th>\n",
       "      <td>SP</td>\n",
       "      <td>Mogi Mirim</td>\n",
       "      <td>GSD 6 cm</td>\n",
       "      <td>Aerofotogrametria</td>\n",
       "      <td>059/2018</td>\n",
       "      <td>AEROCARTA</td>\n",
       "      <td>258/2018</td>\n",
       "    </tr>\n",
       "    <tr>\n",
       "      <th>4</th>\n",
       "      <td>SP</td>\n",
       "      <td>Mairiporã</td>\n",
       "      <td>GSD 10 cm</td>\n",
       "      <td>Aerofotogrametria e Perfilamento a Laser</td>\n",
       "      <td>157/2017</td>\n",
       "      <td>AEROCARTA</td>\n",
       "      <td>255/2017</td>\n",
       "    </tr>\n",
       "  </tbody>\n",
       "</table>\n",
       "</div>"
      ],
      "text/plain": [
       "  ESTADO  \\\n",
       "0     SP   \n",
       "1     SP   \n",
       "2     SP   \n",
       "3     SP   \n",
       "4     SP   \n",
       "\n",
       "  MUNICÍPIO (S)                                                             \\\n",
       "0                                     Ribeirão Preto                         \n",
       "1                                         Mogi Mirim                         \n",
       "2                                         Araraquara                         \n",
       "3                                         Mogi Mirim                         \n",
       "4                                          Mairiporã                         \n",
       "\n",
       "           ESCALA                                FINALIDADE  NºAUT/ANO  \\\n",
       "0         1:5.000    Aerofotogrametria e Perfilamento Laser   028/2016   \n",
       "1  GSD 10 e 25 cm  Aerofotogrametria e Perfilamento a Laser   097/2016   \n",
       "2       GSD 10 cm  Aerofotogrametria e Perfilamento a Laser   165/2016   \n",
       "3        GSD 6 cm                         Aerofotogrametria   059/2018   \n",
       "4       GSD 10 cm  Aerofotogrametria e Perfilamento a Laser   157/2017   \n",
       "\n",
       "        EMPRESA   PROJETO  \n",
       "0     AEROCARTA    248/16  \n",
       "1     AEROCARTA    250/16  \n",
       "2     AEROCARTA  253/2016  \n",
       "3     AEROCARTA  258/2018  \n",
       "4     AEROCARTA  255/2017  "
      ]
     },
     "execution_count": 3,
     "metadata": {},
     "output_type": "execute_result"
    }
   ],
   "source": [
    "dataset.head()"
   ]
  },
  {
   "cell_type": "markdown",
   "id": "b5d80322-ac8a-48fb-a613-9d7b0e99751e",
   "metadata": {
    "jp-MarkdownHeadingCollapsed": true,
    "tags": []
   },
   "source": [
    "<br></br>\n",
    "# Pre-processamento e Limpeza\n",
    "Grande parte dos dados das colunas vieram com erros redundâncias e até dados vazios,<br>\n",
    "e nessa secção eu faço o tratamento e limpeza dos dados que não estão ajustados para analises"
   ]
  },
  {
   "cell_type": "markdown",
   "id": "bb67aa74-f4f0-4168-a04a-3fd061f90c6f",
   "metadata": {},
   "source": [
    "<b>Ajustando Nomes das colunas<b>"
   ]
  },
  {
   "cell_type": "code",
   "execution_count": 4,
   "id": "f7ae02ac-4223-48e5-a700-94456cfdc52c",
   "metadata": {},
   "outputs": [],
   "source": [
    "#reajustando nomes das colunas\n",
    "dataset.columns = ['ESTADO','MUNICÍPIO','ESCALA','FINALIDADE','NºAUT/ANO','EMPRESA','PROJETO']"
   ]
  },
  {
   "cell_type": "markdown",
   "id": "7efa1924-49de-4767-93f5-7da67d6c20b2",
   "metadata": {},
   "source": [
    "<b>separando coluna n_auto/ano em 2 colunas diferentes<b>"
   ]
  },
  {
   "cell_type": "code",
   "execution_count": 5,
   "id": "9bf9cf46-03d5-4116-a78e-072c43fe8822",
   "metadata": {},
   "outputs": [],
   "source": [
    "dataset['NºAUT'] = dataset['NºAUT/ANO'].str.split('/', expand = True)[0]\n",
    "dataset['ANO'] = dataset['NºAUT/ANO'].str.split('/', expand = True)[1]\n",
    "dataset = dataset.drop(columns=['NºAUT/ANO'])"
   ]
  },
  {
   "cell_type": "markdown",
   "id": "b2e398ae-5d19-4fb9-b8d6-c4d6c3dcdfc1",
   "metadata": {},
   "source": [
    "<b>Tratando dados da coluna Estado<b>"
   ]
  },
  {
   "cell_type": "code",
   "execution_count": 6,
   "id": "e43ec81d-0e0f-435d-9aa7-6035076578d3",
   "metadata": {},
   "outputs": [
    {
     "data": {
      "text/plain": [
       "array(['SP', 'MA', 'RS', 'SE', 'AL', 'PE', 'MG', 'BA', 'PI', 'RN', 'PB',\n",
       "       'SC', 'CE', 'PR', 'MS', 'MT', 'GO', 'PA', 'TO', 'RJ', 'ES', 'AC',\n",
       "       'AM', 'AP', 'RS ', 'SP ', 'DF', ' CE', 'RO', 'AM ', nan, 'sp'],\n",
       "      dtype=object)"
      ]
     },
     "execution_count": 6,
     "metadata": {},
     "output_type": "execute_result"
    }
   ],
   "source": [
    "#visualizando dados unicos\n",
    "dataset['ESTADO'].unique()"
   ]
  },
  {
   "cell_type": "code",
   "execution_count": 7,
   "id": "cdf41090-210c-4cbb-9620-c8d17bc181dd",
   "metadata": {},
   "outputs": [],
   "source": [
    "#substituindo erros de digitaçao nos valores\n",
    "dataset.loc[dataset['ESTADO'] ==  'AM ','ESTADO'] = 'AM'\n",
    "dataset.loc[dataset['ESTADO'].isin(['SP ','sp']),'ESTADO'] = 'SP'\n",
    "dataset.loc[dataset['ESTADO'] ==  ' CE','ESTADO'] = 'CE'\n",
    "dataset.loc[dataset['ESTADO'] ==  'RS ','ESTADO'] = 'RS'\n",
    "dataset = dataset.dropna(subset='ESTADO')"
   ]
  },
  {
   "cell_type": "code",
   "execution_count": 8,
   "id": "76f1948e-1fbc-49ce-b176-f23ea7ebc80a",
   "metadata": {},
   "outputs": [
    {
     "data": {
      "text/plain": [
       "array(['SP', 'MA', 'RS', 'SE', 'AL', 'PE', 'MG', 'BA', 'PI', 'RN', 'PB',\n",
       "       'SC', 'CE', 'PR', 'MS', 'MT', 'GO', 'PA', 'TO', 'RJ', 'ES', 'AC',\n",
       "       'AM', 'AP', 'DF', 'RO'], dtype=object)"
      ]
     },
     "execution_count": 8,
     "metadata": {},
     "output_type": "execute_result"
    }
   ],
   "source": [
    "#visualizando dados unicos\n",
    "dataset['ESTADO'].unique()"
   ]
  },
  {
   "cell_type": "markdown",
   "id": "96550839-54eb-4ed3-8c90-12d7b7774f07",
   "metadata": {},
   "source": [
    "<br>\n",
    "<br>\n",
    "<b>removendo coluna Escala por falta de utilidade para analise<b>\n",
    "<br>"
   ]
  },
  {
   "cell_type": "code",
   "execution_count": 9,
   "id": "2e15c724-992c-4afe-bb85-ed41d1f36b90",
   "metadata": {},
   "outputs": [
    {
     "data": {
      "text/html": [
       "<div>\n",
       "<style scoped>\n",
       "    .dataframe tbody tr th:only-of-type {\n",
       "        vertical-align: middle;\n",
       "    }\n",
       "\n",
       "    .dataframe tbody tr th {\n",
       "        vertical-align: top;\n",
       "    }\n",
       "\n",
       "    .dataframe thead th {\n",
       "        text-align: right;\n",
       "    }\n",
       "</style>\n",
       "<table border=\"1\" class=\"dataframe\">\n",
       "  <thead>\n",
       "    <tr style=\"text-align: right;\">\n",
       "      <th></th>\n",
       "      <th>ESTADO</th>\n",
       "      <th>MUNICÍPIO</th>\n",
       "      <th>FINALIDADE</th>\n",
       "      <th>EMPRESA</th>\n",
       "      <th>PROJETO</th>\n",
       "      <th>NºAUT</th>\n",
       "      <th>ANO</th>\n",
       "    </tr>\n",
       "  </thead>\n",
       "  <tbody>\n",
       "    <tr>\n",
       "      <th>0</th>\n",
       "      <td>SP</td>\n",
       "      <td>Ribeirão Preto</td>\n",
       "      <td>Aerofotogrametria e Perfilamento Laser</td>\n",
       "      <td>AEROCARTA</td>\n",
       "      <td>248/16</td>\n",
       "      <td>028</td>\n",
       "      <td>2016</td>\n",
       "    </tr>\n",
       "    <tr>\n",
       "      <th>1</th>\n",
       "      <td>SP</td>\n",
       "      <td>Mogi Mirim</td>\n",
       "      <td>Aerofotogrametria e Perfilamento a Laser</td>\n",
       "      <td>AEROCARTA</td>\n",
       "      <td>250/16</td>\n",
       "      <td>097</td>\n",
       "      <td>2016</td>\n",
       "    </tr>\n",
       "    <tr>\n",
       "      <th>2</th>\n",
       "      <td>SP</td>\n",
       "      <td>Araraquara</td>\n",
       "      <td>Aerofotogrametria e Perfilamento a Laser</td>\n",
       "      <td>AEROCARTA</td>\n",
       "      <td>253/2016</td>\n",
       "      <td>165</td>\n",
       "      <td>2016</td>\n",
       "    </tr>\n",
       "    <tr>\n",
       "      <th>3</th>\n",
       "      <td>SP</td>\n",
       "      <td>Mogi Mirim</td>\n",
       "      <td>Aerofotogrametria</td>\n",
       "      <td>AEROCARTA</td>\n",
       "      <td>258/2018</td>\n",
       "      <td>059</td>\n",
       "      <td>2018</td>\n",
       "    </tr>\n",
       "    <tr>\n",
       "      <th>4</th>\n",
       "      <td>SP</td>\n",
       "      <td>Mairiporã</td>\n",
       "      <td>Aerofotogrametria e Perfilamento a Laser</td>\n",
       "      <td>AEROCARTA</td>\n",
       "      <td>255/2017</td>\n",
       "      <td>157</td>\n",
       "      <td>2017</td>\n",
       "    </tr>\n",
       "  </tbody>\n",
       "</table>\n",
       "</div>"
      ],
      "text/plain": [
       "  ESTADO       MUNICÍPIO                                FINALIDADE    EMPRESA  \\\n",
       "0     SP  Ribeirão Preto    Aerofotogrametria e Perfilamento Laser  AEROCARTA   \n",
       "1     SP      Mogi Mirim  Aerofotogrametria e Perfilamento a Laser  AEROCARTA   \n",
       "2     SP      Araraquara  Aerofotogrametria e Perfilamento a Laser  AEROCARTA   \n",
       "3     SP      Mogi Mirim                         Aerofotogrametria  AEROCARTA   \n",
       "4     SP       Mairiporã  Aerofotogrametria e Perfilamento a Laser  AEROCARTA   \n",
       "\n",
       "    PROJETO NºAUT   ANO  \n",
       "0    248/16   028  2016  \n",
       "1    250/16   097  2016  \n",
       "2  253/2016   165  2016  \n",
       "3  258/2018   059  2018  \n",
       "4  255/2017   157  2017  "
      ]
     },
     "execution_count": 9,
     "metadata": {},
     "output_type": "execute_result"
    }
   ],
   "source": [
    "dataset = dataset.drop(columns=['ESCALA'])\n",
    "dataset.head()"
   ]
  },
  {
   "cell_type": "markdown",
   "id": "cfabf584-9f74-4276-9738-c11e4cc96922",
   "metadata": {},
   "source": [
    "<b>Tratando dados da coluna Finalidade<b>"
   ]
  },
  {
   "cell_type": "code",
   "execution_count": 10,
   "id": "40e70b37-a5cf-4138-bf5d-51a06aa76098",
   "metadata": {
    "tags": []
   },
   "outputs": [
    {
     "data": {
      "text/plain": [
       "array(['Aerofotogrametria e Perfilamento Laser',\n",
       "       'Aerofotogrametria e Perfilamento a Laser', 'Aerofotogrametria',\n",
       "       'Aerofotogrametria e perfilamento a laser',\n",
       "       'Aerofotogramteria e Perfilamento a Laser', 'Aerofotogrametria  ',\n",
       "       'Perfilamento a Laser',\n",
       "       'Aerofotogrametria e Perfilamento a Laser ', 'Aerofotogrametria ',\n",
       "       'Aerofotogrametria e Perfilamento a laser', 'Interferometria SAR',\n",
       "       'Hiperspectral',\n",
       "       'Magnetométrico, eletromagnético e     sistema de vídeo ',\n",
       "       'Aeromagnetométrico, Aeroeletromagnetométrico',\n",
       "       'Aeromagnetométrico, Aeroeletromagnético', 'Aeromagnetométrico',\n",
       "       'Geofísico', 'Aerofotogramétrico',\n",
       "       'Perfilamento a Laser e Aerofotogrametria',\n",
       "       'Aerofogrametria e Perfilamento a Laser',\n",
       "       'Aerofotogrametria o Perfilamento a Laser', 'Perfilamento Laser',\n",
       "       'Radar',\n",
       "       'Aerofotogrametria,  perfilamento a laser e Multiespectral',\n",
       "       'Aerofotogrametria, Perfilamento laser', 'Perfilamento laser'],\n",
       "      dtype=object)"
      ]
     },
     "execution_count": 10,
     "metadata": {},
     "output_type": "execute_result"
    }
   ],
   "source": [
    "#visualizando dados unicos\n",
    "dataset['FINALIDADE'].unique()"
   ]
  },
  {
   "cell_type": "code",
   "execution_count": 11,
   "id": "672b951c-e177-475d-bd2c-cc2f243a9a8b",
   "metadata": {},
   "outputs": [],
   "source": [
    "#limpeza de dados redundantes (Aerofotogrametria e Perfilamento a Laser)\n",
    "dataset.loc[dataset['FINALIDADE'].isin([\n",
    "    'Aerofotogrametria e Perfilamento a Laser',\n",
    "    'Aerofotogrametria e perfilamento a laser',\n",
    "    'Aerofotogramteria e Perfilamento a Laser',\n",
    "    'Aerofotogrametria e Perfilamento a Laser ',\n",
    "    'Aerofotogrametria e Perfilamento a laser',\n",
    "    'Perfilamento a Laser e Aerofotogrametria',\n",
    "    'Aerofogrametria e Perfilamento a Laser',\n",
    "    'Aerofotogrametria, Perfilamento laser',\n",
    "    'Aerofotogrametria o Perfilamento a Laser',\n",
    "]), 'FINALIDADE'] = 'Aerofotogrametria e Perfilamento Laser'\n",
    "#limpeza de dados redundantes (Aerofotogrametria)\n",
    "dataset.loc[dataset['FINALIDADE'].isin([\n",
    "    'Aerofotogrametria  ',\n",
    "    'Aerofotogrametria ',\n",
    "    'Aerofotogramétrico',\n",
    "]), 'FINALIDADE'] = 'Aerofotogrametria'\n",
    "dataset.loc[\n",
    "    dataset['FINALIDADE']\n",
    "    ==  'Aerofotogrametria,  perfilamento a laser e Multiespectral', 'FINALIDADE'] = 'Aerofotogrametria, perfilamento a laser e Multiespectral'\n",
    "dataset.loc[\n",
    "    dataset['FINALIDADE']\n",
    "    ==  'Aeromagnetométrico, Aeroeletromagnético', 'FINALIDADE'] = 'Aeromagnetométrico e Aeroeletromagnético'\n",
    "#limpeza de dados redundantes (Aerofotogrametria)\n",
    "dataset.loc[dataset['FINALIDADE'].isin([\n",
    "    'Aeromagnetométrico, Aeroeletromagnetométrico',\n",
    "]), 'FINALIDADE'] = 'Aeromagnetométrico e Aeroeletromagnetométrico'\n",
    "dataset.loc[\n",
    "    dataset['FINALIDADE']\n",
    "    ==  'Magnetométrico, eletromagnético e     sistema de vídeo ','FINALIDADE'] = 'Magnetométrico, eletromagnético e sistema de vídeo'\n",
    "dataset.loc[\n",
    "    dataset['FINALIDADE'].isin(['Perfilamento Laser', 'Perfilamento laser']), 'FINALIDADE'] = 'Perfilamento a Laser'"
   ]
  },
  {
   "cell_type": "markdown",
   "id": "2de61382-186c-4057-93fc-27b0d21f8ba1",
   "metadata": {},
   "source": [
    "<b>tratando dados da coluna Ano<b>"
   ]
  },
  {
   "cell_type": "code",
   "execution_count": 12,
   "id": "012def69-2594-4836-a50a-e0e767b17fbc",
   "metadata": {},
   "outputs": [
    {
     "data": {
      "text/plain": [
       "array(['2016', '2018', '2017', '2019', '218', '17', '2020', None, '2021',\n",
       "       nan], dtype=object)"
      ]
     },
     "execution_count": 12,
     "metadata": {},
     "output_type": "execute_result"
    }
   ],
   "source": [
    "dataset['ANO'].unique()"
   ]
  },
  {
   "cell_type": "code",
   "execution_count": 13,
   "id": "5627986d-72c9-46bc-8c56-d5b6d484dfe4",
   "metadata": {},
   "outputs": [],
   "source": [
    "#substituindo erros de digitaçao nos valores\n",
    "dataset.loc[dataset['ANO'] ==  '17 ','ANO'] = '2017'\n",
    "dataset.loc[dataset['ANO'] ==  '17','ANO'] = '2017'\n",
    "dataset.loc[dataset['ANO'] ==  '218','ANO'] = '2018'\n",
    "dataset = dataset.dropna(subset='ANO')"
   ]
  },
  {
   "cell_type": "markdown",
   "id": "0c22ced1-d5a0-4e3e-84cf-3b472233de30",
   "metadata": {
    "tags": []
   },
   "source": [
    "<br></br>\n",
    "# Análise Exploratória dos Dados\n",
    "nesta etapa será onde irá se explorar estátisticamente e analisar possiveis insights\n",
    "que possam ser gerados utilizando a base de dados"
   ]
  },
  {
   "cell_type": "markdown",
   "id": "69927258-314a-4dda-adf8-741ac58cca7c",
   "metadata": {
    "tags": []
   },
   "source": [
    "<br></br>\n",
    "## projetos por ano"
   ]
  },
  {
   "cell_type": "markdown",
   "id": "e8af9a7b-2db0-4f32-95e8-7be498cf636a",
   "metadata": {},
   "source": [
    "<br></br>\n",
    "#### em que ano tivemos mais projetos de aerolevantamentos?"
   ]
  },
  {
   "cell_type": "code",
   "execution_count": 14,
   "id": "64c5db0c-902a-4278-8731-60ed8d0753d2",
   "metadata": {},
   "outputs": [
    {
     "data": {
      "text/plain": [
       "<AxesSubplot:xlabel='ANO', ylabel='count'>"
      ]
     },
     "execution_count": 14,
     "metadata": {},
     "output_type": "execute_result"
    },
    {
     "data": {
      "image/png": "[encoded data removed]",
      "text/plain": [
       "<Figure size 432x288 with 1 Axes>"
      ]
     },
     "metadata": {
      "needs_background": "light"
     },
     "output_type": "display_data"
    }
   ],
   "source": [
    "sns.countplot(x='ANO', data=dataset)"
   ]
  },
  {
   "cell_type": "markdown",
   "id": "67e3092f-c8d7-460d-8ae0-842fcc7e1837",
   "metadata": {},
   "source": [
    "## finalidade de levantamento mais frequente"
   ]
  },
  {
   "cell_type": "code",
   "execution_count": 15,
   "id": "d740b020-d4a0-4669-9829-632a75bdcab8",
   "metadata": {},
   "outputs": [
    {
     "data": {
      "image/png": "[encoded data removed]",
      "text/plain": [
       "<Figure size 432x288 with 1 Axes>"
      ]
     },
     "metadata": {
      "needs_background": "light"
     },
     "output_type": "display_data"
    }
   ],
   "source": [
    "ax = sns.countplot(x='FINALIDADE', data=dataset)\n",
    "plot = ax.set_xticklabels(ax.get_xticklabels(), rotation=90)"
   ]
  },
  {
   "cell_type": "markdown",
   "id": "e101059b-e32f-4d32-9929-473d3140dc78",
   "metadata": {
    "tags": []
   },
   "source": [
    "## Qual empresa mais produziu projetos?"
   ]
  },
  {
   "cell_type": "markdown",
   "id": "ab505585-1a57-495d-9b8d-f6ac83658344",
   "metadata": {
    "tags": []
   },
   "source": [
    "### Geral:"
   ]
  },
  {
   "cell_type": "code",
   "execution_count": 16,
   "id": "d8281b2b-0714-4e5d-b9ec-69b117dd2b87",
   "metadata": {},
   "outputs": [
    {
     "data": {
      "image/png": "[encoded data removed]",
      "text/plain": [
       "<Figure size 432x288 with 1 Axes>"
      ]
     },
     "metadata": {
      "needs_background": "light"
     },
     "output_type": "display_data"
    }
   ],
   "source": [
    "agrupado_empresas = dataset.groupby('EMPRESA').count()\n",
    "agrupado_empresas = pd.DataFrame(agrupado_empresas['PROJETO'])\n",
    "mais_lancamentos = agrupado_empresas.sort_values('PROJETO', ascending=False)[0:9]\n",
    "ax = sns.barplot(x = mais_lancamentos.index, y = 'PROJETO', data=mais_lancamentos)\n",
    "plot = ax.set_xticklabels(ax.get_xticklabels(), rotation=90)"
   ]
  },
  {
   "cell_type": "markdown",
   "id": "7badec2c-05e2-4b1d-b2c6-24014ef668bc",
   "metadata": {},
   "source": [
    "## Por ano:"
   ]
  },
  {
   "cell_type": "code",
   "execution_count": 17,
   "id": "b4f0678f-4810-4703-92aa-1557fdde3677",
   "metadata": {},
   "outputs": [],
   "source": [
    "lancamentos_group = dataset.groupby(['EMPRESA','ANO']).count().unstack()\n",
    "lancamentos_group = lancamentos_group['PROJETO'].fillna(0)"
   ]
  },
  {
   "cell_type": "code",
   "execution_count": 18,
   "id": "c4d30520-a8b0-422b-932c-ac41dc5e34bb",
   "metadata": {},
   "outputs": [],
   "source": [
    "empresas_top_10 = lancamentos_group.sort_values(['2016','2017','2018',\n",
    "                                                 '2019','2020','2021'], ascending=False).head(5).T"
   ]
  },
  {
   "cell_type": "code",
   "execution_count": 19,
   "id": "e7095271-9ea2-4fdc-b27e-763dad1a87c7",
   "metadata": {},
   "outputs": [
    {
     "data": {
      "image/png": "[encoded data removed]",
      "text/plain": [
       "<Figure size 432x288 with 1 Axes>"
      ]
     },
     "metadata": {
      "needs_background": "light"
     },
     "output_type": "display_data"
    }
   ],
   "source": [
    "ax = sns.lineplot(data=empresas_top_10)"
   ]
  },
  {
   "cell_type": "code",
   "execution_count": null,
   "id": "cbee8fc5-4d58-4129-b75b-8a9fd35195d1",
   "metadata": {},
   "outputs": [],
   "source": []
  }
 ],
 "metadata": {
  "kernelspec": {
   "display_name": "Python 3 (ipykernel)",
   "language": "python",
   "name": "python3"
  },
  "language_info": {
   "codemirror_mode": {
    "name": "ipython",
    "version": 3
   },
   "file_extension": ".py",
   "mimetype": "text/x-python",
   "name": "python",
   "nbconvert_exporter": "python",
   "pygments_lexer": "ipython3",
   "version": "3.9.12"
  }
 },
 "nbformat": 4,
 "nbformat_minor": 5
}
